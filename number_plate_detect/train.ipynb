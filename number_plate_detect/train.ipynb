{
 "cells": [
  {
   "cell_type": "code",
   "execution_count": 3,
   "metadata": {},
   "outputs": [
    {
     "name": "stdout",
     "output_type": "stream",
     "text": [
      "Requirement already satisfied: roboflow in c:\\users\\sride\\appdata\\local\\programs\\python\\python312\\lib\\site-packages (1.1.37)\n",
      "Requirement already satisfied: certifi in c:\\users\\sride\\appdata\\local\\programs\\python\\python312\\lib\\site-packages (from roboflow) (2024.7.4)\n",
      "Requirement already satisfied: chardet==4.0.0 in c:\\users\\sride\\appdata\\local\\programs\\python\\python312\\lib\\site-packages (from roboflow) (4.0.0)\n",
      "Requirement already satisfied: idna==3.7 in c:\\users\\sride\\appdata\\local\\programs\\python\\python312\\lib\\site-packages (from roboflow) (3.7)\n",
      "Requirement already satisfied: cycler in c:\\users\\sride\\appdata\\local\\programs\\python\\python312\\lib\\site-packages (from roboflow) (0.12.1)\n",
      "Requirement already satisfied: kiwisolver>=1.3.1 in c:\\users\\sride\\appdata\\local\\programs\\python\\python312\\lib\\site-packages (from roboflow) (1.4.5)\n",
      "Requirement already satisfied: matplotlib in c:\\users\\sride\\appdata\\local\\programs\\python\\python312\\lib\\site-packages (from roboflow) (3.8.4)\n",
      "Requirement already satisfied: numpy>=1.18.5 in c:\\users\\sride\\appdata\\local\\programs\\python\\python312\\lib\\site-packages (from roboflow) (1.26.4)\n",
      "Requirement already satisfied: opencv-python-headless==4.10.0.84 in c:\\users\\sride\\appdata\\local\\programs\\python\\python312\\lib\\site-packages (from roboflow) (4.10.0.84)\n",
      "Requirement already satisfied: Pillow>=7.1.2 in c:\\users\\sride\\appdata\\local\\programs\\python\\python312\\lib\\site-packages (from roboflow) (10.4.0)\n",
      "Requirement already satisfied: python-dateutil in c:\\users\\sride\\appdata\\local\\programs\\python\\python312\\lib\\site-packages (from roboflow) (2.9.0.post0)\n",
      "Requirement already satisfied: python-dotenv in c:\\users\\sride\\appdata\\local\\programs\\python\\python312\\lib\\site-packages (from roboflow) (1.0.0)\n",
      "Requirement already satisfied: requests in c:\\users\\sride\\appdata\\local\\programs\\python\\python312\\lib\\site-packages (from roboflow) (2.32.3)\n",
      "Requirement already satisfied: six in c:\\users\\sride\\appdata\\local\\programs\\python\\python312\\lib\\site-packages (from roboflow) (1.16.0)\n",
      "Requirement already satisfied: urllib3>=1.26.6 in c:\\users\\sride\\appdata\\local\\programs\\python\\python312\\lib\\site-packages (from roboflow) (2.2.2)\n",
      "Requirement already satisfied: tqdm>=4.41.0 in c:\\users\\sride\\appdata\\local\\programs\\python\\python312\\lib\\site-packages (from roboflow) (4.66.2)\n",
      "Requirement already satisfied: PyYAML>=5.3.1 in c:\\users\\sride\\appdata\\local\\programs\\python\\python312\\lib\\site-packages (from roboflow) (6.0.1)\n",
      "Requirement already satisfied: requests-toolbelt in c:\\users\\sride\\appdata\\local\\programs\\python\\python312\\lib\\site-packages (from roboflow) (1.0.0)\n",
      "Requirement already satisfied: filetype in c:\\users\\sride\\appdata\\local\\programs\\python\\python312\\lib\\site-packages (from roboflow) (1.2.0)\n",
      "Requirement already satisfied: colorama in c:\\users\\sride\\appdata\\local\\programs\\python\\python312\\lib\\site-packages (from tqdm>=4.41.0->roboflow) (0.4.6)\n",
      "Requirement already satisfied: contourpy>=1.0.1 in c:\\users\\sride\\appdata\\local\\programs\\python\\python312\\lib\\site-packages (from matplotlib->roboflow) (1.2.1)\n",
      "Requirement already satisfied: fonttools>=4.22.0 in c:\\users\\sride\\appdata\\local\\programs\\python\\python312\\lib\\site-packages (from matplotlib->roboflow) (4.51.0)\n",
      "Requirement already satisfied: packaging>=20.0 in c:\\users\\sride\\appdata\\local\\programs\\python\\python312\\lib\\site-packages (from matplotlib->roboflow) (23.2)\n",
      "Requirement already satisfied: pyparsing>=2.3.1 in c:\\users\\sride\\appdata\\local\\programs\\python\\python312\\lib\\site-packages (from matplotlib->roboflow) (3.1.2)\n",
      "Requirement already satisfied: charset-normalizer<4,>=2 in c:\\users\\sride\\appdata\\local\\programs\\python\\python312\\lib\\site-packages (from requests->roboflow) (3.3.2)\n"
     ]
    }
   ],
   "source": [
    "!pip install roboflow\n",
    "!pip install ultralytics"
   ]
  },
  {
   "cell_type": "code",
   "execution_count": 4,
   "metadata": {},
   "outputs": [
    {
     "name": "stdout",
     "output_type": "stream",
     "text": [
      "loading Roboflow workspace...\n",
      "loading Roboflow project...\n",
      "Dependency ultralytics==8.0.196 is required but found version=8.2.70, to fix: `pip install ultralytics==8.0.196`\n"
     ]
    },
    {
     "name": "stderr",
     "output_type": "stream",
     "text": [
      "Downloading Dataset Version Zip in licence-plate-2 to yolov8:: 100%|██████████| 104991/104991 [01:45<00:00, 996.68it/s] "
     ]
    },
    {
     "name": "stdout",
     "output_type": "stream",
     "text": [
      "\n"
     ]
    },
    {
     "name": "stderr",
     "output_type": "stream",
     "text": [
      "\n",
      "Extracting Dataset Version Zip to licence-plate-2 in yolov8:: 100%|██████████| 8084/8084 [00:07<00:00, 1124.83it/s]\n"
     ]
    }
   ],
   "source": [
    "from roboflow import Roboflow\n",
    "rf = Roboflow(api_key=\"PHJBRCx5Ok31swINAuhW\")\n",
    "project = rf.workspace(\"roboflow-universe-projects\").project(\"license-plate-recognition-rxg4e\")\n",
    "version = project.version(4)\n",
    "dataset = version.download(\"yolov8\")\n"
   ]
  },
  {
   "cell_type": "code",
   "execution_count": 8,
   "metadata": {},
   "outputs": [
    {
     "data": {
      "text/plain": [
       "'c:\\\\Users\\\\sride\\\\OneDrive\\\\Desktop\\\\sdvk\\\\py\\\\cv\\\\number_plate_detect\\\\licence-plate-2'"
      ]
     },
     "execution_count": 8,
     "metadata": {},
     "output_type": "execute_result"
    }
   ],
   "source": [
    "dataset.location"
   ]
  },
  {
   "cell_type": "code",
   "execution_count": 13,
   "metadata": {},
   "outputs": [
    {
     "name": "stdout",
     "output_type": "stream",
     "text": [
      "^C\n"
     ]
    }
   ],
   "source": [
    "!yolo task=detect mode=train model=yolov8l.pt data={dataset.location}/data.yaml epochs=100 imgsz=480"
   ]
  }
 ],
 "metadata": {
  "kernelspec": {
   "display_name": "Python 3",
   "language": "python",
   "name": "python3"
  },
  "language_info": {
   "codemirror_mode": {
    "name": "ipython",
    "version": 3
   },
   "file_extension": ".py",
   "mimetype": "text/x-python",
   "name": "python",
   "nbconvert_exporter": "python",
   "pygments_lexer": "ipython3",
   "version": "3.12.1"
  }
 },
 "nbformat": 4,
 "nbformat_minor": 2
}
